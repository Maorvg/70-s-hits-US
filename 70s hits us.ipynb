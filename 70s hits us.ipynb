{
 "cells": [
  {
   "cell_type": "code",
   "execution_count": null,
   "metadata": {},
   "outputs": [],
   "source": [
    "from bs4 import BeautifulSoup\n",
    "import requests\n",
    "import pandas as pd\n",
    "from datetime import datetime, timedelta"
   ]
  },
  {
   "cell_type": "code",
   "execution_count": null,
   "metadata": {},
   "outputs": [],
   "source": [
    "\n",
    "source=requests.get('https://en.wikipedia.org/wiki/List_of_Billboard_Hot_100_number-one_singles_of_the_1970s').text\n",
    "soup=BeautifulSoup(source)\n",
    "table=soup.find('table',class_=\"sortable wikitable\")\n",
    "data=table.find_all('td')\n",
    "start_date=[]\n",
    "artist=[]\n",
    "title=[]\n",
    "num_weeks=[]\n",
    "label=[]\n",
    "na=[]"
   ]
  },
  {
   "cell_type": "code",
   "execution_count": null,
   "metadata": {},
   "outputs": [],
   "source": [
    "for i,j in enumerate([na,start_date,artist,title,label,num_weeks,na]):\n",
    "    j+=[a.text for a in data][i::7]\n",
    "    \n",
    "frame={'Start date':start_date,'Artist':artist,'Title':title,'Number of weeks':num_weeks,'Lable':label}\n",
    "df=pd.DataFrame(frame)\n",
    "df['Start date']=pd.to_datetime(df['Start date'])\n",
    "df.set_index('Start date',inplace=True)\n"
   ]
  },
  {
   "cell_type": "code",
   "execution_count": null,
   "metadata": {},
   "outputs": [],
   "source": [
    "ends=[]\n",
    "for i in df.index:\n",
    "    \n",
    "    ends.append(i+timedelta('Weeks'==df.loc[i,'Number of weeks']))\n",
    "    \n",
    "df['End date']=ends\n",
    "df['Start date']=df.index\n",
    "\n",
    "df.set_index('End date',inplace=True)\n",
    "\n",
    "\n"
   ]
  },
  {
   "cell_type": "code",
   "execution_count": null,
   "metadata": {},
   "outputs": [],
   "source": [
    "def top_artists(DA):\n",
    "    Tartists=set()\n",
    "    for i in DA.index:\n",
    "        if DA.loc[i,'Number of weeks']==DA['Number of weeks'].max():\n",
    "            Tartists.add(DA.loc[i,'Artist'])\n",
    "            \n",
    "    print(Tartists)\n",
    "    print (DA['Number of weeks'].max()+ ' Weeks')\n",
    "    \n",
    "\n",
    "    \n",
    "def bottom_artists(DA):\n",
    "    Bartists=set()\n",
    "    df_count=DA['Artist'].value_counts()\n",
    "    df_count=df_count[df_count==1]\n",
    "    for i in DA.index:\n",
    "        if DA.loc[i,'Number of weeks']==DA['Number of weeks'].min() and DA.loc[i,'Artist'] in df_count.index :\n",
    "            Bartists.add(DA.loc[i,'Artist'])\n",
    "    print(Bartists)\n",
    "    print (DA['Number of weeks'].min()+ ' Weeks') \n",
    "\n",
    "\n",
    "\n",
    "            \n",
    "def frequent_artist(df):\n",
    "    \n",
    "    Fartist=df['Artist'].value_counts()\n",
    "    Fartist=Fartist[Fartist==df['Artist'].value_counts().max()]\n",
    "    print(Fartist.index[0], ', ',Fartist[0],' times in number 1')\n",
    "        \n",
    "        \n"
   ]
  }
 ],
 "metadata": {
  "kernelspec": {
   "display_name": "Python 3",
   "language": "python",
   "name": "python3"
  },
  "language_info": {
   "codemirror_mode": {
    "name": "ipython",
    "version": 3
   },
   "file_extension": ".py",
   "mimetype": "text/x-python",
   "name": "python",
   "nbconvert_exporter": "python",
   "pygments_lexer": "ipython3",
   "version": "3.8.5"
  }
 },
 "nbformat": 4,
 "nbformat_minor": 4
}
