{
  "nbformat": 4,
  "nbformat_minor": 0,
  "metadata": {
    "colab": {
      "name": "ROIvenue.ipynb",
      "provenance": [],
      "collapsed_sections": [],
      "toc_visible": true,
      "authorship_tag": "ABX9TyNdScBvAnTJlMeafpE1ivvJ",
      "include_colab_link": true
    },
    "kernelspec": {
      "name": "python3",
      "display_name": "Python 3"
    },
    "language_info": {
      "name": "python"
    }
  },
  "cells": [
    {
      "cell_type": "markdown",
      "metadata": {
        "id": "view-in-github",
        "colab_type": "text"
      },
      "source": [
        "<a href=\"https://colab.research.google.com/github/Maorvg/70-s-hits-US/blob/main/ROIvenue.ipynb\" target=\"_parent\"><img src=\"https://colab.research.google.com/assets/colab-badge.svg\" alt=\"Open In Colab\"/></a>"
      ]
    },
    {
      "cell_type": "markdown",
      "metadata": {
        "id": "1LdDAwHMq1NU"
      },
      "source": [
        "# Imports"
      ]
    },
    {
      "cell_type": "code",
      "metadata": {
        "id": "IVhjzz45ZW8J"
      },
      "source": [
        "import pandas as pd\n",
        "import matplotlib.pyplot as plt\n",
        "import numpy as np\n",
        "from collections import Counter\n",
        "from statistics import mean\n",
        "import seaborn as sns"
      ],
      "execution_count": 1,
      "outputs": []
    },
    {
      "cell_type": "markdown",
      "metadata": {
        "id": "GOKZRDlaq77r"
      },
      "source": [
        "#Reading the data"
      ]
    },
    {
      "cell_type": "code",
      "metadata": {
        "id": "v6Fokll2ZmkX"
      },
      "source": [
        "df = pd.read_csv('/content/data.csv',encoding='latin1')"
      ],
      "execution_count": 2,
      "outputs": []
    },
    {
      "cell_type": "markdown",
      "metadata": {
        "id": "j4g_ilmdrA-M"
      },
      "source": [
        "Examining the head of the data"
      ]
    },
    {
      "cell_type": "code",
      "metadata": {
        "colab": {
          "base_uri": "https://localhost:8080/",
          "height": 195
        },
        "id": "TC_E7kEZbF0I",
        "outputId": "28fcaeb9-bdda-4686-c32e-ddc8f92892f9"
      },
      "source": [
        "df.head()"
      ],
      "execution_count": 3,
      "outputs": [
        {
          "output_type": "execute_result",
          "data": {
            "text/html": [
              "<div>\n",
              "<style scoped>\n",
              "    .dataframe tbody tr th:only-of-type {\n",
              "        vertical-align: middle;\n",
              "    }\n",
              "\n",
              "    .dataframe tbody tr th {\n",
              "        vertical-align: top;\n",
              "    }\n",
              "\n",
              "    .dataframe thead th {\n",
              "        text-align: right;\n",
              "    }\n",
              "</style>\n",
              "<table border=\"1\" class=\"dataframe\">\n",
              "  <thead>\n",
              "    <tr style=\"text-align: right;\">\n",
              "      <th></th>\n",
              "      <th>InvoiceNo</th>\n",
              "      <th>StockCode</th>\n",
              "      <th>Description</th>\n",
              "      <th>Quantity</th>\n",
              "      <th>InvoiceDate</th>\n",
              "      <th>UnitPrice</th>\n",
              "      <th>CustomerID</th>\n",
              "      <th>Country</th>\n",
              "    </tr>\n",
              "  </thead>\n",
              "  <tbody>\n",
              "    <tr>\n",
              "      <th>0</th>\n",
              "      <td>536365</td>\n",
              "      <td>85123A</td>\n",
              "      <td>WHITE HANGING HEART T-LIGHT HOLDER</td>\n",
              "      <td>6</td>\n",
              "      <td>12/1/2010 8:26</td>\n",
              "      <td>2.55</td>\n",
              "      <td>17850.0</td>\n",
              "      <td>United Kingdom</td>\n",
              "    </tr>\n",
              "    <tr>\n",
              "      <th>1</th>\n",
              "      <td>536365</td>\n",
              "      <td>71053</td>\n",
              "      <td>WHITE METAL LANTERN</td>\n",
              "      <td>6</td>\n",
              "      <td>12/1/2010 8:26</td>\n",
              "      <td>3.39</td>\n",
              "      <td>17850.0</td>\n",
              "      <td>United Kingdom</td>\n",
              "    </tr>\n",
              "    <tr>\n",
              "      <th>2</th>\n",
              "      <td>536365</td>\n",
              "      <td>84406B</td>\n",
              "      <td>CREAM CUPID HEARTS COAT HANGER</td>\n",
              "      <td>8</td>\n",
              "      <td>12/1/2010 8:26</td>\n",
              "      <td>2.75</td>\n",
              "      <td>17850.0</td>\n",
              "      <td>United Kingdom</td>\n",
              "    </tr>\n",
              "    <tr>\n",
              "      <th>3</th>\n",
              "      <td>536365</td>\n",
              "      <td>84029G</td>\n",
              "      <td>KNITTED UNION FLAG HOT WATER BOTTLE</td>\n",
              "      <td>6</td>\n",
              "      <td>12/1/2010 8:26</td>\n",
              "      <td>3.39</td>\n",
              "      <td>17850.0</td>\n",
              "      <td>United Kingdom</td>\n",
              "    </tr>\n",
              "    <tr>\n",
              "      <th>4</th>\n",
              "      <td>536365</td>\n",
              "      <td>84029E</td>\n",
              "      <td>RED WOOLLY HOTTIE WHITE HEART.</td>\n",
              "      <td>6</td>\n",
              "      <td>12/1/2010 8:26</td>\n",
              "      <td>3.39</td>\n",
              "      <td>17850.0</td>\n",
              "      <td>United Kingdom</td>\n",
              "    </tr>\n",
              "  </tbody>\n",
              "</table>\n",
              "</div>"
            ],
            "text/plain": [
              "  InvoiceNo StockCode  ... CustomerID         Country\n",
              "0    536365    85123A  ...    17850.0  United Kingdom\n",
              "1    536365     71053  ...    17850.0  United Kingdom\n",
              "2    536365    84406B  ...    17850.0  United Kingdom\n",
              "3    536365    84029G  ...    17850.0  United Kingdom\n",
              "4    536365    84029E  ...    17850.0  United Kingdom\n",
              "\n",
              "[5 rows x 8 columns]"
            ]
          },
          "metadata": {
            "tags": []
          },
          "execution_count": 3
        }
      ]
    },
    {
      "cell_type": "markdown",
      "metadata": {
        "id": "aXkoeAJ2rMF6"
      },
      "source": [
        "### Exploring the data and enriching"
      ]
    },
    {
      "cell_type": "markdown",
      "metadata": {
        "id": "OLDSRsDIwCrU"
      },
      "source": [
        "Looking at missing data"
      ]
    },
    {
      "cell_type": "code",
      "metadata": {
        "colab": {
          "base_uri": "https://localhost:8080/",
          "height": 332
        },
        "id": "dXGO474kvsqJ",
        "outputId": "0b1c8606-47e2-44e1-d7d8-e60b38dc8a92"
      },
      "source": [
        "\n",
        "sns.heatmap(df.isnull(), yticklabels = False, cbar = False, cmap='viridis')"
      ],
      "execution_count": 4,
      "outputs": [
        {
          "output_type": "execute_result",
          "data": {
            "text/plain": [
              "<matplotlib.axes._subplots.AxesSubplot at 0x7f8bab97b050>"
            ]
          },
          "metadata": {
            "tags": []
          },
          "execution_count": 4
        },
        {
          "output_type": "display_data",
          "data": {
            "image/png": "[encoded data removed]",
            "text/plain": [
              "<Figure size 432x288 with 1 Axes>"
            ]
          },
          "metadata": {
            "tags": [],
            "needs_background": "light"
          }
        }
      ]
    },
    {
      "cell_type": "code",
      "metadata": {
        "colab": {
          "base_uri": "https://localhost:8080/"
        },
        "id": "nahE6e4awqO2",
        "outputId": "c3f6655b-a9ba-47b5-f41b-c4dda97654eb"
      },
      "source": [
        "print('Number of null values per column:')\n",
        "df.isnull().sum()"
      ],
      "execution_count": 10,
      "outputs": [
        {
          "output_type": "stream",
          "text": [
            "Number of null values per column:\n"
          ],
          "name": "stdout"
        },
        {
          "output_type": "execute_result",
          "data": {
            "text/plain": [
              "InvoiceNo      0\n",
              "StockCode      0\n",
              "Description    0\n",
              "Quantity       0\n",
              "InvoiceDate    0\n",
              "UnitPrice      0\n",
              "CustomerID     0\n",
              "Country        0\n",
              "total_price    0\n",
              "month_year     0\n",
              "dtype: int64"
            ]
          },
          "metadata": {
            "tags": []
          },
          "execution_count": 10
        }
      ]
    },
    {
      "cell_type": "code",
      "metadata": {
        "colab": {
          "base_uri": "https://localhost:8080/"
        },
        "id": "lLVrhJ3ubvW7",
        "outputId": "9a0d2d03-c004-4f6c-aadc-1a4a602be1f7"
      },
      "source": [
        "print('Data type of each column:')\n",
        "df.dtypes"
      ],
      "execution_count": 11,
      "outputs": [
        {
          "output_type": "stream",
          "text": [
            "Data type of each column:\n"
          ],
          "name": "stdout"
        },
        {
          "output_type": "execute_result",
          "data": {
            "text/plain": [
              "InvoiceNo              object\n",
              "StockCode              object\n",
              "Description            object\n",
              "Quantity                int64\n",
              "InvoiceDate    datetime64[ns]\n",
              "UnitPrice             float64\n",
              "CustomerID            float64\n",
              "Country                object\n",
              "total_price           float64\n",
              "month_year          period[M]\n",
              "dtype: object"
            ]
          },
          "metadata": {
            "tags": []
          },
          "execution_count": 11
        }
      ]
    },
    {
      "cell_type": "code",
      "metadata": {
        "id": "VyOrsMrSba4X"
      },
      "source": [
        "#Setting the date column to datetime\n",
        "df['InvoiceDate'] = df['InvoiceDate'].astype('datetime64')\n",
        "\n",
        "#Adding a total price column\n",
        "df['total_price'] = df['Quantity']*df['UnitPrice']\n",
        "\n",
        "#extracting the month and year from each date to a new column\n",
        "df['month_year'] = pd.to_datetime(df['InvoiceDate']).dt.to_period('M')\n",
        "\n",
        "#Filling in missing values\n",
        "df['Description'] = df['Description'].fillna('No description')\n",
        "df['CustomerID'] = df['CustomerID'].fillna(0)"
      ],
      "execution_count": 7,
      "outputs": []
    },
    {
      "cell_type": "code",
      "metadata": {
        "colab": {
          "base_uri": "https://localhost:8080/",
          "height": 279
        },
        "id": "UZyr_neidKb0",
        "outputId": "216f90ae-f4f3-48aa-fa0e-03d63be9e570"
      },
      "source": [
        "df.head()"
      ],
      "execution_count": 8,
      "outputs": [
        {
          "output_type": "execute_result",
          "data": {
            "text/html": [
              "<div>\n",
              "<style scoped>\n",
              "    .dataframe tbody tr th:only-of-type {\n",
              "        vertical-align: middle;\n",
              "    }\n",
              "\n",
              "    .dataframe tbody tr th {\n",
              "        vertical-align: top;\n",
              "    }\n",
              "\n",
              "    .dataframe thead th {\n",
              "        text-align: right;\n",
              "    }\n",
              "</style>\n",
              "<table border=\"1\" class=\"dataframe\">\n",
              "  <thead>\n",
              "    <tr style=\"text-align: right;\">\n",
              "      <th></th>\n",
              "      <th>InvoiceNo</th>\n",
              "      <th>StockCode</th>\n",
              "      <th>Description</th>\n",
              "      <th>Quantity</th>\n",
              "      <th>InvoiceDate</th>\n",
              "      <th>UnitPrice</th>\n",
              "      <th>CustomerID</th>\n",
              "      <th>Country</th>\n",
              "      <th>total_price</th>\n",
              "      <th>month_year</th>\n",
              "    </tr>\n",
              "  </thead>\n",
              "  <tbody>\n",
              "    <tr>\n",
              "      <th>0</th>\n",
              "      <td>536365</td>\n",
              "      <td>85123A</td>\n",
              "      <td>WHITE HANGING HEART T-LIGHT HOLDER</td>\n",
              "      <td>6</td>\n",
              "      <td>2010-12-01 08:26:00</td>\n",
              "      <td>2.55</td>\n",
              "      <td>17850.0</td>\n",
              "      <td>United Kingdom</td>\n",
              "      <td>15.30</td>\n",
              "      <td>2010-12</td>\n",
              "    </tr>\n",
              "    <tr>\n",
              "      <th>1</th>\n",
              "      <td>536365</td>\n",
              "      <td>71053</td>\n",
              "      <td>WHITE METAL LANTERN</td>\n",
              "      <td>6</td>\n",
              "      <td>2010-12-01 08:26:00</td>\n",
              "      <td>3.39</td>\n",
              "      <td>17850.0</td>\n",
              "      <td>United Kingdom</td>\n",
              "      <td>20.34</td>\n",
              "      <td>2010-12</td>\n",
              "    </tr>\n",
              "    <tr>\n",
              "      <th>2</th>\n",
              "      <td>536365</td>\n",
              "      <td>84406B</td>\n",
              "      <td>CREAM CUPID HEARTS COAT HANGER</td>\n",
              "      <td>8</td>\n",
              "      <td>2010-12-01 08:26:00</td>\n",
              "      <td>2.75</td>\n",
              "      <td>17850.0</td>\n",
              "      <td>United Kingdom</td>\n",
              "      <td>22.00</td>\n",
              "      <td>2010-12</td>\n",
              "    </tr>\n",
              "    <tr>\n",
              "      <th>3</th>\n",
              "      <td>536365</td>\n",
              "      <td>84029G</td>\n",
              "      <td>KNITTED UNION FLAG HOT WATER BOTTLE</td>\n",
              "      <td>6</td>\n",
              "      <td>2010-12-01 08:26:00</td>\n",
              "      <td>3.39</td>\n",
              "      <td>17850.0</td>\n",
              "      <td>United Kingdom</td>\n",
              "      <td>20.34</td>\n",
              "      <td>2010-12</td>\n",
              "    </tr>\n",
              "    <tr>\n",
              "      <th>4</th>\n",
              "      <td>536365</td>\n",
              "      <td>84029E</td>\n",
              "      <td>RED WOOLLY HOTTIE WHITE HEART.</td>\n",
              "      <td>6</td>\n",
              "      <td>2010-12-01 08:26:00</td>\n",
              "      <td>3.39</td>\n",
              "      <td>17850.0</td>\n",
              "      <td>United Kingdom</td>\n",
              "      <td>20.34</td>\n",
              "      <td>2010-12</td>\n",
              "    </tr>\n",
              "  </tbody>\n",
              "</table>\n",
              "</div>"
            ],
            "text/plain": [
              "  InvoiceNo StockCode  ... total_price  month_year\n",
              "0    536365    85123A  ...       15.30     2010-12\n",
              "1    536365     71053  ...       20.34     2010-12\n",
              "2    536365    84406B  ...       22.00     2010-12\n",
              "3    536365    84029G  ...       20.34     2010-12\n",
              "4    536365    84029E  ...       20.34     2010-12\n",
              "\n",
              "[5 rows x 10 columns]"
            ]
          },
          "metadata": {
            "tags": []
          },
          "execution_count": 8
        }
      ]
    },
    {
      "cell_type": "markdown",
      "metadata": {
        "id": "MyOtI3xPrbBz"
      },
      "source": [
        "### Creating a monthly report where all columns are in a list"
      ]
    },
    {
      "cell_type": "code",
      "metadata": {
        "id": "TrBWV-fudcKs"
      },
      "source": [
        "#Grouping by monthly period\n",
        "monthly_rep = df.groupby('month_year').agg(list)\n"
      ],
      "execution_count": 9,
      "outputs": []
    },
    {
      "cell_type": "markdown",
      "metadata": {
        "id": "2f2CA8HyroY7"
      },
      "source": [
        "Getting the total number of sales for each month "
      ]
    },
    {
      "cell_type": "code",
      "metadata": {
        "colab": {
          "base_uri": "https://localhost:8080/"
        },
        "id": "aBmF6B3re3PU",
        "outputId": "591b5458-0ede-4506-9d4a-bcce94bc3bcd"
      },
      "source": [
        "monthly_rep['total_orders'] = monthly_rep['InvoiceNo'].apply(len)\n",
        "print('A monthly report of number of sales:')\n",
        "monthly_rep['total_orders']"
      ],
      "execution_count": 13,
      "outputs": [
        {
          "output_type": "stream",
          "text": [
            "A monthly report of number of sales:\n"
          ],
          "name": "stdout"
        },
        {
          "output_type": "execute_result",
          "data": {
            "text/plain": [
              "month_year\n",
              "2010-12    42481\n",
              "2011-01    35147\n",
              "2011-02    27707\n",
              "2011-03    36748\n",
              "2011-04    29916\n",
              "2011-05    37030\n",
              "2011-06    36874\n",
              "2011-07    39518\n",
              "2011-08    35284\n",
              "2011-09    50226\n",
              "2011-10    60742\n",
              "2011-11    84711\n",
              "2011-12    25525\n",
              "Freq: M, Name: total_orders, dtype: int64"
            ]
          },
          "metadata": {
            "tags": []
          },
          "execution_count": 13
        }
      ]
    },
    {
      "cell_type": "markdown",
      "metadata": {
        "id": "d-WcR0WFsijO"
      },
      "source": [
        "Plotting this data"
      ]
    },
    {
      "cell_type": "code",
      "metadata": {
        "colab": {
          "base_uri": "https://localhost:8080/",
          "height": 363
        },
        "id": "jYQ3SBF9fdj0",
        "outputId": "9b236141-5bb2-4908-a48f-a6630e947033"
      },
      "source": [
        "monthly_rep.plot(figsize= (8,5))"
      ],
      "execution_count": null,
      "outputs": [
        {
          "output_type": "execute_result",
          "data": {
            "text/plain": [
              "<matplotlib.axes._subplots.AxesSubplot at 0x7fea47586510>"
            ]
          },
          "metadata": {
            "tags": []
          },
          "execution_count": 128
        },
        {
          "output_type": "display_data",
          "data": {
            "image/png": "[encoded data removed]",
            "text/plain": [
              "<Figure size 576x360 with 1 Axes>"
            ]
          },
          "metadata": {
            "tags": [],
            "needs_background": "light"
          }
        }
      ]
    },
    {
      "cell_type": "markdown",
      "metadata": {
        "id": "Ys8x6T5RsqpT"
      },
      "source": [
        "### Taking the mean of the total price for each months sales"
      ]
    },
    {
      "cell_type": "code",
      "metadata": {
        "colab": {
          "base_uri": "https://localhost:8080/"
        },
        "id": "LJDrU7XcgZh0",
        "outputId": "1091a401-8c23-4b13-99be-6b4dc0849698"
      },
      "source": [
        "avg_price_monthly = monthly_rep['total_price'].apply(lambda x:mean(x))\n",
        "print( 'monthly report of the average revenue per sale:')\n",
        "avg_price_monthly"
      ],
      "execution_count": 14,
      "outputs": [
        {
          "output_type": "stream",
          "text": [
            "monthly report of the average revenue per sale:\n"
          ],
          "name": "stdout"
        },
        {
          "output_type": "execute_result",
          "data": {
            "text/plain": [
              "month_year\n",
              "2010-12    17.630400\n",
              "2011-01    15.933088\n",
              "2011-02    17.976058\n",
              "2011-03    18.593313\n",
              "2011-04    16.486399\n",
              "2011-05    19.533716\n",
              "2011-06    18.742830\n",
              "2011-07    17.240248\n",
              "2011-08    19.348161\n",
              "2011-09    20.301987\n",
              "2011-10    17.627089\n",
              "2011-11    17.255802\n",
              "2011-12    16.989932\n",
              "Freq: M, Name: total_price, dtype: float64"
            ]
          },
          "metadata": {
            "tags": []
          },
          "execution_count": 14
        }
      ]
    },
    {
      "cell_type": "markdown",
      "metadata": {
        "id": "duZsRORhtHjM"
      },
      "source": [
        "Plotting this data"
      ]
    },
    {
      "cell_type": "code",
      "metadata": {
        "colab": {
          "base_uri": "https://localhost:8080/",
          "height": 383
        },
        "id": "OsvQhVk2iCkk",
        "outputId": "294ba4b9-094e-456a-ec68-9c047f44e100"
      },
      "source": [
        "avg_price_monthly.plot.bar(figsize= (8,5))"
      ],
      "execution_count": null,
      "outputs": [
        {
          "output_type": "execute_result",
          "data": {
            "text/plain": [
              "<matplotlib.axes._subplots.AxesSubplot at 0x7fea3ebf1710>"
            ]
          },
          "metadata": {
            "tags": []
          },
          "execution_count": 130
        },
        {
          "output_type": "display_data",
          "data": {
            "image/png": "[encoded data removed]",
            "text/plain": [
              "<Figure size 576x360 with 1 Axes>"
            ]
          },
          "metadata": {
            "tags": [],
            "needs_background": "light"
          }
        }
      ]
    },
    {
      "cell_type": "markdown",
      "metadata": {
        "id": "GaqnEw-4tNuD"
      },
      "source": [
        "### Finding how many orders in average do customers do monthly"
      ]
    },
    {
      "cell_type": "markdown",
      "metadata": {
        "id": "FWaet3xRtY6-"
      },
      "source": [
        "First I group by the month and customer and find out how many orders each customer made"
      ]
    },
    {
      "cell_type": "code",
      "metadata": {
        "id": "6xE-C8DxjCT1"
      },
      "source": [
        "date_customer = df.groupby(['month_year','CustomerID']).agg({'InvoiceNo':list}).reset_index()\n",
        "date_customer['total_orders'] = date_customer['InvoiceNo'].apply(len)\n"
      ],
      "execution_count": 16,
      "outputs": []
    },
    {
      "cell_type": "markdown",
      "metadata": {
        "id": "FmQPEenatq4N"
      },
      "source": [
        "Then using another groupby, I list all total orders from all customers"
      ]
    },
    {
      "cell_type": "code",
      "metadata": {
        "id": "Z3xl2nHZlhak"
      },
      "source": [
        "date_customer = date_customer.groupby('month_year').agg({'total_orders': list})\n"
      ],
      "execution_count": 17,
      "outputs": []
    },
    {
      "cell_type": "markdown",
      "metadata": {
        "id": "HoA2QIQiuMVt"
      },
      "source": [
        "Now for each month I can calculate the mean"
      ]
    },
    {
      "cell_type": "code",
      "metadata": {
        "id": "-m69d0agmtNb"
      },
      "source": [
        "date_customer['avg_orders'] = date_customer['total_orders'].apply(lambda x: mean(x))"
      ],
      "execution_count": 18,
      "outputs": []
    },
    {
      "cell_type": "code",
      "metadata": {
        "colab": {
          "base_uri": "https://localhost:8080/"
        },
        "id": "hEKCCjpNnVxo",
        "outputId": "d2a72067-1fe0-48f1-b222-a6f4360d5a0e"
      },
      "source": [
        "print('Monthly report of Average number of orders customers make per month')\n",
        "date_customer['avg_orders'] "
      ],
      "execution_count": 21,
      "outputs": [
        {
          "output_type": "stream",
          "text": [
            "Monthly report of Average number of orders customers make per month\n"
          ],
          "name": "stdout"
        },
        {
          "output_type": "execute_result",
          "data": {
            "text/plain": [
              "month_year\n",
              "2010-12    44.763962\n",
              "2011-01    44.830357\n",
              "2011-02    34.677096\n",
              "2011-03    35.992165\n",
              "2011-04    33.240000\n",
              "2011-05    34.287037\n",
              "2011-06    35.051331\n",
              "2011-07    39.756539\n",
              "2011-08    35.967380\n",
              "2011-09    38.546431\n",
              "2011-10    42.596073\n",
              "2011-11    49.480724\n",
              "2011-12    37.154294\n",
              "Freq: M, Name: avg_orders, dtype: float64"
            ]
          },
          "metadata": {
            "tags": []
          },
          "execution_count": 21
        }
      ]
    },
    {
      "cell_type": "markdown",
      "metadata": {
        "id": "R2IKugguuTym"
      },
      "source": [
        "### Finding how many customers only made one purchase"
      ]
    },
    {
      "cell_type": "markdown",
      "metadata": {
        "id": "_RfzPV9Zuwu-"
      },
      "source": [
        "By subtracting the amount of customers that appear more than once from the length of the entire dataframe, I will get the number of one time customers"
      ]
    },
    {
      "cell_type": "code",
      "metadata": {
        "colab": {
          "base_uri": "https://localhost:8080/"
        },
        "id": "bKTvOLWOn9Ut",
        "outputId": "7de9480c-f4fc-4d7e-cabb-90748af1eb05"
      },
      "source": [
        "filt = df.duplicated(subset=['CustomerID'], keep=False)\n",
        "one_timers = len(df)-len(df[filt])\n",
        "one_timers\n"
      ],
      "execution_count": null,
      "outputs": [
        {
          "output_type": "execute_result",
          "data": {
            "text/plain": [
              "79"
            ]
          },
          "metadata": {
            "tags": []
          },
          "execution_count": 135
        }
      ]
    },
    {
      "cell_type": "markdown",
      "metadata": {
        "id": "OI4fppyzvL8N"
      },
      "source": [
        "### Finding how many customers  made multiple orders"
      ]
    },
    {
      "cell_type": "markdown",
      "metadata": {
        "id": "Rjne6nB6vY9u"
      },
      "source": [
        "By subtracting the one time buyers from the total customers I will get The number of multiple purchase customers"
      ]
    },
    {
      "cell_type": "code",
      "metadata": {
        "colab": {
          "base_uri": "https://localhost:8080/"
        },
        "id": "tNdhQd1FqYpc",
        "outputId": "e0128d84-0965-4e11-a9fd-0cdef5ec4670"
      },
      "source": [
        "len(df['CustomerID'].value_counts())-one_timers"
      ],
      "execution_count": null,
      "outputs": [
        {
          "output_type": "execute_result",
          "data": {
            "text/plain": [
              "4294"
            ]
          },
          "metadata": {
            "tags": []
          },
          "execution_count": 136
        }
      ]
    }
  ]
}